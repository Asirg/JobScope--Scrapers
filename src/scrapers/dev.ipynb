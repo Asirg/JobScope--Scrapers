{
 "cells": [
  {
   "cell_type": "code",
   "execution_count": 1,
   "id": "0d88175c",
   "metadata": {},
   "outputs": [],
   "source": [
    "from selenium import webdriver\n",
    "from selenium.webdriver.common.by import By\n",
    "\n",
    "from bs4 import BeautifulSoup\n",
    "\n",
    "\n",
    "import datetime\n",
    "import time\n",
    "import sys\n",
    "import os\n",
    "\n",
    "\n",
    "sys.path.insert(1, os.path.abspath(os.path.join(os.getcwd(), \"..\", \"..\")))"
   ]
  },
  {
   "cell_type": "code",
   "execution_count": 2,
   "id": "f41d6419",
   "metadata": {},
   "outputs": [],
   "source": [
    "browser =  webdriver.Chrome()\n",
    "browser.get(\"https://jobs.dou.ua/\")\n",
    "\n",
    "require_title = [\"Python\"]"
   ]
  },
  {
   "cell_type": "code",
   "execution_count": null,
   "id": "03df24b2",
   "metadata": {},
   "outputs": [],
   "source": [
    "def vacancies_list_processing(el):\n",
    "    pars_vacancies = dict()\n",
    "\n",
    "    el.click()\n",
    "\n",
    "    vacancies = browser.find_elements(By.CLASS_NAME, 'l-vacancy')\n",
    "\n",
    "    for vac in vacancies:\n",
    "        \n",
    "        vac.find_element(By.TAG_NAME, 'a').click()\n",
    "\n",
    "        pars_vacancies[browser.current_url] = browser.page_source\n",
    "\n",
    "        time.sleep(1)\n",
    "\n",
    "        browser.back()\n",
    "    \n",
    "    return pars_vacancies"
   ]
  },
  {
   "cell_type": "code",
   "execution_count": 4,
   "id": "86bc5608",
   "metadata": {},
   "outputs": [],
   "source": [
    "pars_vacancies = None\n",
    "\n",
    "categories = browser.find_elements(By.CLASS_NAME, 'cat-link')\n",
    "\n",
    "for cat in categories:\n",
    "    try:\n",
    "        if (cat.text in require_title):\n",
    "            pars_vacancies = vacancies_list_processing(cat)\n",
    "    except:\n",
    "        pass\n",
    "\n",
    "browser.close()"
   ]
  },
  {
   "cell_type": "code",
   "execution_count": null,
   "id": "5e5d2fe0",
   "metadata": {},
   "outputs": [],
   "source": [
    "data = list()\n",
    "\n",
    "replace_month_dict = {\n",
    "    'січня':      1,\n",
    "    'лютого':     2,\n",
    "    'березня':    3,\n",
    "    'травня':     4,\n",
    "    'квітня':     5,\n",
    "    'червня':     6,\n",
    "    'липня':      7,\n",
    "    'серпня':     8,\n",
    "    'вересня':    9,\n",
    "    'жовтня':     10,\n",
    "    'листопада':  11,\n",
    "    'грудня':     12,\n",
    "}\n",
    "\n",
    "for i in pars_vacancies.items():\n",
    "    vacansy = dict()\n",
    "    \n",
    "\n",
    "    res = BeautifulSoup(i[1], 'lxml')\n",
    "    res = res.find_all(\"div\", class_=\"l-vacancy\")[0]\n",
    "\n",
    "    vacansy['link'] = i[0]\n",
    "    vacansy['data'] = i[1]\n",
    "    vacansy['name'] = res.find(\"h1\").text\n",
    "    date = str(res.find(\"div\", class_='date').text).replace('\\n', '').replace('\\t', '').split(\" \")\n",
    "    vacansy['published_at'] = datetime.datetime(int(date[2]), replace_month_dict[date[1].lower()], int(date[0]))\n",
    "    \n",
    "    data.append(vacansy)"
   ]
  },
  {
   "cell_type": "code",
   "execution_count": null,
   "id": "64398ae9",
   "metadata": {},
   "outputs": [],
   "source": [
    "from src.database import async_session\n",
    "from src.models.vacancies import RawVacancies"
   ]
  },
  {
   "cell_type": "code",
   "execution_count": null,
   "id": "d88a2b9b",
   "metadata": {},
   "outputs": [
    {
     "name": "stdout",
     "output_type": "stream",
     "text": [
      "2025-08-08 19:32:16,553 INFO sqlalchemy.engine.Engine BEGIN (implicit)\n",
      "2025-08-08 19:32:16,555 INFO sqlalchemy.engine.Engine INSERT INTO raw_vacancies (source_id, link, name, data, published_at, unpublished_at, created_at, updated_at) VALUES ($1::INTEGER, $2::VARCHAR, $3::VARCHAR, $4::VARCHAR, $5::TIMESTAMP WITHOUT TIME ZONE, $6::TIMESTAMP WITHOUT TIME ZONE, $7::TIMESTAMP WITHOUT TIME ZONE, $8::TIMESTAMP WITHOUT TIME ZONE) RETURNING raw_vacancies.raw_vacancy_id\n",
      "2025-08-08 19:32:16,556 INFO sqlalchemy.engine.Engine [cached since 89.2s ago] (1, 'https://jobs.dou.ua/companies/verybusy-recruiting/vacancies/317934/?from=list_hot', 'Senior Backend (Python) Engineer', '<html lang=\"uk\" xmlns:og=\"http://ogp.me/ns#\" class=\"is_desktop\" data-theme=\"auto\"><head>\\n\\t<meta charset=\"utf-8\">\\n\\n\\t<title>Senior Backend (Python ... (45815 characters truncated) ... ;uam=&amp;uap=Windows&amp;uapv=19.0.0&amp;uaw=0&amp;fledge=1&amp;_tu=Cg\" style=\"display: none; visibility: hidden;\"></iframe>\\n\\n\\n\\n\\n</body></html>', datetime.datetime(2025, 7, 29, 0, 0), None, datetime.datetime(2025, 8, 8, 19, 32, 16, 552975), datetime.datetime(2025, 8, 8, 19, 32, 16, 552990))\n",
      "2025-08-08 19:32:16,619 INFO sqlalchemy.engine.Engine COMMIT\n"
     ]
    }
   ],
   "source": [
    "async with async_session() as session:\n",
    "    for d in data:\n",
    "        rvac = RawVacancies(**d)\n",
    "        rvac.source_id = 1\n",
    "        rvac.created_at = datetime.datetime.now()\n",
    "        rvac.updated_at = datetime.datetime.now()\n",
    "        session.add(rvac)\n",
    "        await session.commit()"
   ]
  },
  {
   "cell_type": "code",
   "execution_count": null,
   "id": "aa4954dc",
   "metadata": {},
   "outputs": [],
   "source": []
  }
 ],
 "metadata": {
  "kernelspec": {
   "display_name": ".venv",
   "language": "python",
   "name": "python3"
  },
  "language_info": {
   "codemirror_mode": {
    "name": "ipython",
    "version": 3
   },
   "file_extension": ".py",
   "mimetype": "text/x-python",
   "name": "python",
   "nbconvert_exporter": "python",
   "pygments_lexer": "ipython3",
   "version": "3.13.5"
  }
 },
 "nbformat": 4,
 "nbformat_minor": 5
}
